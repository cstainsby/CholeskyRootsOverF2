{
 "cells": [
  {
   "cell_type": "markdown",
   "metadata": {},
   "source": [
    "# Main analysis\n",
    "\n",
    "## Summary\n"
   ]
  },
  {
   "cell_type": "code",
   "execution_count": 1,
   "metadata": {},
   "outputs": [],
   "source": [
    "# imports\n",
    "import main\n",
    "import matplotlib.pyplot as plt\n",
    "import numpy as np\n",
    "from importlib import reload"
   ]
  },
  {
   "cell_type": "markdown",
   "metadata": {},
   "source": [
    "## Generate data"
   ]
  },
  {
   "cell_type": "code",
   "execution_count": 2,
   "metadata": {},
   "outputs": [],
   "source": [
    "\n",
    "reload(main)\n",
    "\n",
    "# run settings\n",
    "GF = 2\n",
    "\n",
    "# set what dimensions the matrices are generated through\n",
    "run_from = 2\n",
    "up_to = 5\n",
    "\n",
    "n_list = []         # parallel list of n \n",
    "chol_len_list = []  # list of the number of chol matrices based on n_dim\n",
    "sqrt_len_list = []  # list of the number of sqrt matrices based on n_dim\n",
    "\n",
    "\n",
    "chol_list = []      # list that will store lists of all chol matrices at each n\n",
    "sqrt_list = []      # list that will store lists of all sqrt matrices at each n\n",
    "\n",
    "# fill the lists\n",
    "for dim in range(run_from, up_to):\n",
    "    general_upper_matrix = main.generate_upper_triangular_matrix_of_nxn(dim)\n",
    "    upper_triangular_list = main.find_matrix_list_from_gen(GF, general_upper_matrix)\n",
    "    sqrt_list_at_n = main.generate_square_root_matrices(GF, upper_triangular_list)\n",
    "    chol_list_at_n = main.generate_cholesky_roots_matrices(GF, upper_triangular_list)\n",
    "\n",
    "    n_list.append(dim)\n",
    "    sqrt_list.append(sqrt_list_at_n)\n",
    "    chol_list.append(chol_list_at_n)\n",
    "    sqrt_len_list.append(len(sqrt_list_at_n))\n",
    "    chol_len_list.append(len(chol_list_at_n))"
   ]
  },
  {
   "cell_type": "markdown",
   "metadata": {},
   "source": [
    "## Frequencies at nxn \n",
    "As n increases, how does the number of chol and sqrt matrices grow?"
   ]
  },
  {
   "cell_type": "code",
   "execution_count": 3,
   "metadata": {},
   "outputs": [
    {
     "name": "stdout",
     "output_type": "stream",
     "text": [
      "Cholesky dict\n",
      "2: 2\n",
      "3: 6\n",
      "4: 28\n",
      "\n",
      "sqrt list\n",
      "2: 2\n",
      "3: 6\n",
      "4: 28\n"
     ]
    },
    {
     "data": {
      "image/png": "[encoded data removed]",
      "text/plain": [
       "<Figure size 432x288 with 1 Axes>"
      ]
     },
     "metadata": {},
     "output_type": "display_data"
    }
   ],
   "source": [
    "print(\"Cholesky dict\")\n",
    "for i in range(len(sqrt_len_list)):\n",
    "    print(str(n_list[i]) + \": \" + str(chol_len_list[i]))\n",
    "print()\n",
    "print(\"sqrt list\")\n",
    "for i in range(len(sqrt_len_list)):\n",
    "    print(str(n_list[i]) + \": \" + str(sqrt_len_list[i]))\n",
    "\n",
    "fig = plt.figure()\n",
    "fig.patch.set_facecolor(\"white\")\n",
    "plt.title(\"Growth of Chol. Matrices Relative to n\")\n",
    "\n",
    "plt.plot(n_list, chol_len_list, label=\"Chol frequency\")\n",
    "plt.plot(n_list, sqrt_len_list, label=\"Sqrt frequency\")\n",
    "\n",
    "plt.legend()\n",
    "plt.xticks(np.arange(min(n_list), max(n_list) + 1, 1.0))\n",
    "\n",
    "plt.grid(True)\n",
    "\n",
    "plt.show()"
   ]
  },
  {
   "cell_type": "markdown",
   "metadata": {},
   "source": [
    "## Rule\n",
    "The goal of this project is to see if there is a relationship/rule to pair square root matrices to cholesky root matrices given that we know their number grows equally relative to any n  \n",
    "\n"
   ]
  },
  {
   "cell_type": "code",
   "execution_count": null,
   "metadata": {},
   "outputs": [],
   "source": []
  },
  {
   "cell_type": "markdown",
   "metadata": {},
   "source": [
    "### Looking at the \"Defining moments\" of the CHOL and SQRT trees\n"
   ]
  },
  {
   "cell_type": "markdown",
   "metadata": {},
   "source": [
    "# Cholesky Roots And Sqrts Of Upper Triangular Matrices Over F2\n",
    "&nbsp;&nbsp;&nbsp;&nbsp;&nbsp;Undergrad Reasearch Spring 2022\n",
    "## About The Project\n",
    "Of particular concern to this research project is the relationship between\n",
    "the number of Cholesky roots (ChRts) and the number of upper-triangular\n",
    "square roots (SqRts) of the zero matrix. It is known that ChRts=SqRts (see\n",
    "https://arxiv.org/abs/2109.06130 for proof). However the proof is not constructive - it \n",
    "doesn’t show that there is a way to match them up - and therefore leads\n",
    "to the questions:\n",
    "- Is this just dumb luck or is there a reason for this bijection?\n",
    "- Is there a way to pair each 2×2 Cholesky Roots to a 2×2 Square Root in\n",
    "such a manner that it will inform how to pair off the 3 × 3 matrices, the\n",
    "4 × 4 matrices, etc?\n",
    "- Is there a rule that will transform n ×n Cholesky Roots into n ×n square\n",
    "roots for all n ≥ 1?\n",
    "\n",
    "Link to our group's Overleaf page [here](https://www.overleaf.com/project/61e7965045e1e5674344ba14)\n",
    "## About The Code\n",
    "The goal of my code is to provide an easy way to create and analyze \n",
    "## How To Run\n",
    "\n",
    "### Software Required\n",
    "Prefferably, use docker to run the program\n",
    "Alternativley, you can download the python libraries directly\n",
    "Python Libraries\n",
    "- Required for running base program\n",
    "    - numpy\n",
    "- Required for running tests\n",
    "    - pytest\n"
   ]
  }
 ],
 "metadata": {
  "interpreter": {
   "hash": "d4d1e4263499bec80672ea0156c357c1ee493ec2b1c70f0acce89fc37c4a6abe"
  },
  "kernelspec": {
   "display_name": "Python 3.8.8 ('base')",
   "language": "python",
   "name": "python3"
  },
  "language_info": {
   "codemirror_mode": {
    "name": "ipython",
    "version": 3
   },
   "file_extension": ".py",
   "mimetype": "text/x-python",
   "name": "python",
   "nbconvert_exporter": "python",
   "pygments_lexer": "ipython3",
   "version": "3.8.8"
  },
  "orig_nbformat": 4
 },
 "nbformat": 4,
 "nbformat_minor": 2
}
