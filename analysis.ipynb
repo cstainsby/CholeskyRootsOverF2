{
 "cells": [
  {
   "cell_type": "code",
   "execution_count": 49,
   "metadata": {},
   "outputs": [],
   "source": [
    "import importlib\n",
    "\n",
    "import analysis_utils"
   ]
  },
  {
   "cell_type": "markdown",
   "metadata": {},
   "source": [
    "### Growth of GF2 Matrices over increasing n's\n",
    "[To Paper](https://www.emis.de/journals/SC/1997/2/pdf/smf_sem-cong_2_35-42.pdf)\n",
    "\n",
    "To Calculate even n's\n",
    "$$ \n",
    "C_{2n}(q) = \\sum^{n/3}_{j=-(n+1)/3} [\\binom{2n}{n-3j} - \\binom{2n}{n-1-3j}] * q^{n^{2} - 3j^{2} - j}\n",
    "$$\n",
    "To simplify this expression I set n = floor(n/2)\n",
    "\n",
    "\n",
    "To Calculate odd n's\n",
    "$$\n",
    "C_{2n + 1}(q) = \\sum^{n/3}_{j=-(n+2)/3} [\\binom{2n + 1}{n-3j} - \\binom{2n + 1}{n-1-3j}] * q^{n^{2} + n - 3j^{2} - j}\n",
    "$$\n",
    "To simplify this expression I set n = floor(n/2 - 1/2)\n"
   ]
  },
  {
   "cell_type": "code",
   "execution_count": 51,
   "metadata": {},
   "outputs": [
    {
     "name": "stdout",
     "output_type": "stream",
     "text": [
      "n    num matrices\n",
      "2    2\n",
      "3    6\n",
      "4    28\n",
      "5    192\n",
      "6    1920\n",
      "7    28672\n",
      "8    618496\n",
      "9    19132416\n",
      "10   853508096\n",
      "11   54584672256\n",
      "12   5007193669632\n",
      "13   656391261913088\n",
      "14   122997864673574912\n",
      "15   32863344789678981120\n",
      "16   12522141669213840867328\n",
      "17   6792468641646224590503936\n",
      "18   5245768641382970836578729984\n",
      "19   5760420786247318241425022255104\n"
     ]
    }
   ],
   "source": [
    "importlib.reload(analysis_utils)\n",
    "\n",
    "# find the \n",
    "GF = 2\n",
    "test_list = [i for i in range(2, 20)]\n",
    "result_list = []\n",
    "for test in test_list:\n",
    "    result_list.append(analysis_utils.chol_sqrt_binom_size_growth(GF, test))\n",
    "\n",
    "# output\n",
    "print(\"n\", end=\"    \")\n",
    "print(\"num matrices\")\n",
    "for i in range(len(test_list)):\n",
    "    spacing = \" \" * (5 - len(str(test_list[i])))\n",
    "    print(str(test_list[i]) + spacing + str(result_list[i]))\n",
    "\n"
   ]
  },
  {
   "cell_type": "markdown",
   "metadata": {},
   "source": [
    "### Output when run over n of 2 to 10\n",
    "|n  | num matrices|\n",
    "|---|-------------| \n",
    "|2  |  2          |\n",
    "|3  |  6          |\n",
    "|4  |  28         |\n",
    "|5  |  192        |\n",
    "|6  |  1920       |\n",
    "|7  |  28672      | \n",
    "|8  |  618496     |\n",
    "|9  |  19132416   |\n",
    "|10 |  853508096  | "
   ]
  }
 ],
 "metadata": {
  "interpreter": {
   "hash": "d4d1e4263499bec80672ea0156c357c1ee493ec2b1c70f0acce89fc37c4a6abe"
  },
  "kernelspec": {
   "display_name": "Python 3.8.8 ('base')",
   "language": "python",
   "name": "python3"
  },
  "language_info": {
   "codemirror_mode": {
    "name": "ipython",
    "version": 3
   },
   "file_extension": ".py",
   "mimetype": "text/x-python",
   "name": "python",
   "nbconvert_exporter": "python",
   "pygments_lexer": "ipython3",
   "version": "3.8.8"
  },
  "orig_nbformat": 4
 },
 "nbformat": 4,
 "nbformat_minor": 2
}
